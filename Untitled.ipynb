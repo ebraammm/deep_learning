{
 "cells": [
  {
   "cell_type": "code",
   "execution_count": 104,
   "id": "fcb53edc",
   "metadata": {},
   "outputs": [
    {
     "name": "stdout",
     "output_type": "stream",
     "text": [
      "Scraped Names: []\n",
      "Scraped Contents: []\n",
      "Data has been saved to 'places_to_visit_in_egypt.pdf'\n"
     ]
    }
   ],
   "source": [
    "import requests\n",
    "from bs4 import BeautifulSoup\n",
    "from fpdf import FPDF\n",
    "\n",
    "class PDF(FPDF):\n",
    "    def header(self):\n",
    "        self.set_font('Arial', 'B', 12)\n",
    "        self.cell(0, 10, 'Best Places to Visit in Egypt', 0, 1, 'C')\n",
    "\n",
    "    def chapter_title(self, name):\n",
    "        self.set_font('Arial', 'B', 12)\n",
    "        self.cell(0, 10, name.encode('latin-1', 'replace').decode('latin-1'), 0, 1, 'L')\n",
    "\n",
    "    def chapter_body(self, body):\n",
    "        self.set_font('Arial', '', 12)\n",
    "        self.multi_cell(0, 10, body.encode('latin-1', 'replace').decode('latin-1'))\n",
    "        self.ln()\n",
    "\n",
    "    def add_place(self, name, body):\n",
    "        self.add_page()\n",
    "        self.chapter_title(name)\n",
    "        self.chapter_body(body)\n",
    "\n",
    "# URL of the website to scrape\n",
    "url = 'https://www.localguidetoegypt.com/post/where-to-go-in-egypt-10-best-egyptian-cities-destinations'\n",
    "\n",
    "# Send a request to the website\n",
    "response = requests.get(url)\n",
    "\n",
    "# Check if the request was successful\n",
    "if response.status_code == 200:\n",
    "    # Parse the HTML content\n",
    "    soup = BeautifulSoup(response.text, 'html.parser')\n",
    "\n",
    "    # Lists to store the data\n",
    "    names = []\n",
    "    contents = []\n",
    "\n",
    "    # Find all the place names and their descriptions\n",
    "    sections = soup.find_all('div', class_='entry-content')\n",
    "    for section in sections:\n",
    "        for place in section.find_all('h2'):\n",
    "            name = place.get_text(strip=True)\n",
    "            content = ''\n",
    "            for sibling in place.find_next_siblings():\n",
    "                if sibling.name == 'h2':\n",
    "                    break\n",
    "                spans = sibling.find_all('span')\n",
    "                for span in spans:\n",
    "                    content += span.get_text(strip=True) + ' '\n",
    "            names.append(name)\n",
    "            contents.append(content.strip())\n",
    "else:\n",
    "    print(f\"Failed to retrieve the website. Status code: {response.status_code}\")\n",
    "\n",
    "# Check the scraped data\n",
    "print(\"Scraped Names:\", names)\n",
    "print(\"Scraped Contents:\", contents)\n",
    "\n",
    "# Create a PDF object\n",
    "pdf = PDF()\n",
    "\n",
    "# Add each place to the PDF\n",
    "for name, content in zip(names, contents):\n",
    "    pdf.add_place(name, content)\n",
    "\n",
    "# Save the PDF to a file\n",
    "pdf.output('places_to_visit_in_egypt.pdf')\n",
    "\n",
    "print(\"Data has been saved to 'places_to_visit_in_egypt.pdf'\")\n"
   ]
  },
  {
   "cell_type": "code",
   "execution_count": null,
   "id": "7cd7a9bb",
   "metadata": {},
   "outputs": [],
   "source": []
  }
 ],
 "metadata": {
  "kernelspec": {
   "display_name": "Python 3 (ipykernel)",
   "language": "python",
   "name": "python3"
  },
  "language_info": {
   "codemirror_mode": {
    "name": "ipython",
    "version": 3
   },
   "file_extension": ".py",
   "mimetype": "text/x-python",
   "name": "python",
   "nbconvert_exporter": "python",
   "pygments_lexer": "ipython3",
   "version": "3.11.4"
  }
 },
 "nbformat": 4,
 "nbformat_minor": 5
}
