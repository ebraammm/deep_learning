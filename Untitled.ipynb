{
 "cells": [
  {
   "cell_type": "code",
   "execution_count": 78,
   "id": "bfefca49",
   "metadata": {},
   "outputs": [],
   "source": [
    "from fpdf import FPDF\n",
    "\n",
    "class PDF(FPDF):\n",
    "    def header(self):\n",
    "        self.set_font('Arial', 'B', 12)\n",
    "        self.cell(0, 10, 'Top Attractions in Egypt', 0, 1, 'C')\n",
    "\n",
    "    def chapter_title(self, name):\n",
    "        self.set_font('Arial', 'B', 12)\n",
    "        self.cell(0, 10, name.encode('latin-1', 'replace').decode('latin-1'), 0, 1, 'L')\n",
    "\n",
    "    def chapter_body(self, body):\n",
    "        self.set_font('Arial', '', 12)\n",
    "        self.multi_cell(0, 10, body.encode('latin-1', 'replace').decode('latin-1'))\n",
    "        self.ln()\n",
    "\n",
    "    def add_place(self, name, body):\n",
    "        self.add_page()\n",
    "        self.chapter_title(name)\n",
    "        self.chapter_body(body)\n"
   ]
  },
  {
   "cell_type": "code",
   "execution_count": 79,
   "id": "4ec5e0a1",
   "metadata": {},
   "outputs": [
    {
     "name": "stdout",
     "output_type": "stream",
     "text": [
      "Data has been saved to 'output\\top_attractions_in_egypt.pdf'\n"
     ]
    }
   ],
   "source": [
    "# Example data, replace with actual data collected from TripAdvisor\n",
    "attractions = [\n",
    "    {\"name\": \"Giza Pyramids\", \"description\": \"The Great Pyramids of Giza are some of the most famous and iconic structures in the world.\"},\n",
    "    {\"name\": \"Luxor Temple\", \"description\": \"Luxor Temple is a large Ancient Egyptian temple complex located on the east bank of the Nile River.\"},\n",
    "    {\"name\": \"Valley of the Kings\", \"description\": \"The Valley of the Kings is a valley in Egypt where, for a period of nearly 500 years, tombs were constructed for the Pharaohs and powerful nobles.\"},\n",
    "    # Add more attractions as needed\n",
    "]\n",
    "\n",
    "pdf = PDF()\n",
    "\n",
    "for attraction in attractions:\n",
    "    pdf.add_place(attraction[\"name\"], attraction[\"description\"])\n",
    "\n",
    "# Save the PDF to a file in the specified directory\n",
    "output_directory = 'output'\n",
    "if not os.path.exists(output_directory):\n",
    "    os.makedirs(output_directory)\n",
    "\n",
    "output_path = os.path.join(output_directory, 'top_attractions_in_egypt.pdf')\n",
    "pdf.output(output_path)\n",
    "\n",
    "print(f\"Data has been saved to '{output_path}'\")\n"
   ]
  },
  {
   "cell_type": "code",
   "execution_count": 70,
   "id": "9de4a348",
   "metadata": {},
   "outputs": [
    {
     "name": "stdout",
     "output_type": "stream",
     "text": [
      "Data has been saved to 'output\\places_to_visit_in_egypt.pdf'\n"
     ]
    }
   ],
   "source": [
    "import os\n",
    "\n",
    "# Create a PDF object\n",
    "pdf = PDF()\n",
    "\n",
    "# Add each place to the PDF\n",
    "for name, content in zip(names, contents):\n",
    "    pdf.add_place(name, content)\n",
    "\n",
    "# Ensure the directory exists\n",
    "output_directory = 'output'\n",
    "if not os.path.exists(output_directory):\n",
    "    os.makedirs(output_directory)\n",
    "\n",
    "# Save the PDF to a file in the specified directory\n",
    "output_path = os.path.join(output_directory, 'places_to_visit_in_egypt.pdf')\n",
    "pdf.output(output_path)\n",
    "\n",
    "print(f\"Data has been saved to '{output_path}'\")\n"
   ]
  },
  {
   "cell_type": "code",
   "execution_count": null,
   "id": "69b653b1",
   "metadata": {},
   "outputs": [],
   "source": []
  }
 ],
 "metadata": {
  "kernelspec": {
   "display_name": "Python 3 (ipykernel)",
   "language": "python",
   "name": "python3"
  },
  "language_info": {
   "codemirror_mode": {
    "name": "ipython",
    "version": 3
   },
   "file_extension": ".py",
   "mimetype": "text/x-python",
   "name": "python",
   "nbconvert_exporter": "python",
   "pygments_lexer": "ipython3",
   "version": "3.11.4"
  }
 },
 "nbformat": 4,
 "nbformat_minor": 5
}
