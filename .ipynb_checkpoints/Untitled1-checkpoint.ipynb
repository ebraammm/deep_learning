{
 "cells": [
  {
   "cell_type": "code",
   "execution_count": 8,
   "id": "ea2c8174-57e4-4d4d-a5e3-571b6acd98ff",
   "metadata": {},
   "outputs": [
    {
     "ename": "ModuleNotFoundError",
     "evalue": "No module named 'chromadb.client'",
     "output_type": "error",
     "traceback": [
      "\u001b[1;31m---------------------------------------------------------------------------\u001b[0m",
      "\u001b[1;31mModuleNotFoundError\u001b[0m                       Traceback (most recent call last)",
      "Cell \u001b[1;32mIn[8], line 4\u001b[0m\n\u001b[0;32m      2\u001b[0m \u001b[38;5;28;01mimport\u001b[39;00m \u001b[38;5;21;01mpandas\u001b[39;00m \u001b[38;5;28;01mas\u001b[39;00m \u001b[38;5;21;01mpd\u001b[39;00m\n\u001b[0;32m      3\u001b[0m \u001b[38;5;28;01mfrom\u001b[39;00m \u001b[38;5;21;01mPyPDF2\u001b[39;00m \u001b[38;5;28;01mimport\u001b[39;00m PdfReader\n\u001b[1;32m----> 4\u001b[0m \u001b[38;5;28;01mfrom\u001b[39;00m \u001b[38;5;21;01mchromadb\u001b[39;00m\u001b[38;5;21;01m.\u001b[39;00m\u001b[38;5;21;01mclient\u001b[39;00m \u001b[38;5;28;01mimport\u001b[39;00m Client\n\u001b[0;32m      5\u001b[0m \u001b[38;5;28;01mfrom\u001b[39;00m \u001b[38;5;21;01mchromadb\u001b[39;00m\u001b[38;5;21;01m.\u001b[39;00m\u001b[38;5;21;01mconfig\u001b[39;00m \u001b[38;5;28;01mimport\u001b[39;00m Settings\n\u001b[0;32m      7\u001b[0m \u001b[38;5;66;03m# Function to extract text from PDF\u001b[39;00m\n",
      "\u001b[1;31mModuleNotFoundError\u001b[0m: No module named 'chromadb.client'"
     ]
    }
   ],
   "source": [
    "import re\n",
    "import pandas as pd\n",
    "from PyPDF2 import PdfReader\n",
    "from chromadb.client import Client\n",
    "from chromadb.config import Settings\n",
    "\n",
    "# Function to extract text from PDF\n",
    "def extract_text_from_pdf(pdf_path):\n",
    "    text = \"\"\n",
    "    with open(pdf_path, 'rb') as file:\n",
    "        reader = PdfReader(file)\n",
    "        for page_num in range(len(reader.pages)):\n",
    "            page = reader.pages[page_num]\n",
    "            text += page.extract_text()\n",
    "    return text\n",
    "\n",
    "# Function to preprocess text into chunks\n",
    "def preprocess_text(text):\n",
    "    chunks = re.split(r'\\nTitle:', text)\n",
    "    processed_chunks = []\n",
    "\n",
    "    for chunk in chunks:\n",
    "        if chunk.strip():\n",
    "            title_match = re.search(r'^(.*)', chunk)\n",
    "            title = title_match.group(0).strip() if title_match else \"Untitled\"\n",
    "            details = chunk.replace(title, '').strip()\n",
    "            details = re.sub(r'\\n+', '\\n', details)\n",
    "            processed_chunks.append({\n",
    "                \"Title\": title,\n",
    "                \"Details\": details\n",
    "            })\n",
    "    \n",
    "    return processed_chunks\n",
    "\n",
    "# Paths to the PDF files\n",
    "pdf_paths = [\"./dataset/best 55 places.pdf\", \n",
    "             \"./dataset/Best Places to Visit in Egypt.pdf\"]\n",
    "\n",
    "# Extract and preprocess text from PDFs\n",
    "all_chunks = []\n",
    "\n",
    "for pdf_path in pdf_paths:\n",
    "    text = extract_text_from_pdf(pdf_path)\n",
    "    chunks = preprocess_text(text)\n",
    "    all_chunks.extend(chunks)\n",
    "\n",
    "# Initialize ChromaDB client\n",
    "client = Client(Settings())\n",
    "\n",
    "# Define the collection name\n",
    "collection_name = \"places_to_visit_in_egypt\"\n",
    "\n",
    "# Check if the collection already exists, if not create it\n",
    "if collection_name not in client.list_collections():\n",
    "    collection = client.create_collection(collection_name)\n",
    "else:\n",
    "    collection = client.get_collection(collection_name)\n",
    "\n",
    "# Prepare the data for insertion\n",
    "documents = []\n",
    "for idx, chunk in enumerate(all_chunks):\n",
    "    document = {\n",
    "        \"id\": str(idx),\n",
    "        \"title\": chunk[\"Title\"],\n",
    "        \"content\": chunk[\"Details\"]\n",
    "    }\n",
    "    documents.append(document)\n",
    "\n",
    "# Insert data into the collection\n",
    "collection.add_documents(documents)\n",
    "\n",
    "# Verify insertion\n",
    "inserted_docs = collection.get_documents(limit=5)\n",
    "print(inserted_docs)\n"
   ]
  },
  {
   "cell_type": "code",
   "execution_count": 6,
   "id": "d49f1360-dea5-4591-a64d-c2e07bbfa070",
   "metadata": {},
   "outputs": [
    {
     "name": "stdout",
     "output_type": "stream",
     "text": [
      "Collecting chromadb.clientNote: you may need to restart the kernel to use updated packages.\n",
      "\n",
      "  Downloading chromadb_client-0.4.25.dev0-py3-none-any.whl.metadata (2.4 kB)\n",
      "Requirement already satisfied: numpy>=1.22.5 in c:\\users\\medan\\appdata\\local\\programs\\python\\python311\\lib\\site-packages (from chromadb.client) (1.26.2)\n",
      "Requirement already satisfied: opentelemetry-api>=1.2.0 in c:\\users\\medan\\appdata\\local\\programs\\python\\python311\\lib\\site-packages (from chromadb.client) (1.25.0)\n",
      "Requirement already satisfied: opentelemetry-exporter-otlp-proto-grpc>=1.2.0 in c:\\users\\medan\\appdata\\local\\programs\\python\\python311\\lib\\site-packages (from chromadb.client) (1.25.0)\n",
      "Requirement already satisfied: opentelemetry-sdk>=1.2.0 in c:\\users\\medan\\appdata\\local\\programs\\python\\python311\\lib\\site-packages (from chromadb.client) (1.25.0)\n",
      "Requirement already satisfied: overrides>=7.3.1 in c:\\users\\medan\\appdata\\local\\programs\\python\\python311\\lib\\site-packages (from chromadb.client) (7.4.0)\n",
      "Requirement already satisfied: posthog>=2.4.0 in c:\\users\\medan\\appdata\\local\\programs\\python\\python311\\lib\\site-packages (from chromadb.client) (3.5.0)\n",
      "Requirement already satisfied: pydantic>=1.9 in c:\\users\\medan\\appdata\\local\\programs\\python\\python311\\lib\\site-packages (from chromadb.client) (1.10.15)\n",
      "Requirement already satisfied: requests>=2.28 in c:\\users\\medan\\appdata\\local\\programs\\python\\python311\\lib\\site-packages (from chromadb.client) (2.31.0)\n",
      "Requirement already satisfied: typing-extensions>=4.5.0 in c:\\users\\medan\\appdata\\local\\programs\\python\\python311\\lib\\site-packages (from chromadb.client) (4.9.0)\n",
      "Requirement already satisfied: tenacity>=8.2.3 in c:\\users\\medan\\appdata\\local\\programs\\python\\python311\\lib\\site-packages (from chromadb.client) (8.2.3)\n",
      "Requirement already satisfied: PyYAML>=6.0.0 in c:\\users\\medan\\appdata\\local\\programs\\python\\python311\\lib\\site-packages (from chromadb.client) (6.0.1)\n",
      "Requirement already satisfied: orjson>=3.9.12 in c:\\users\\medan\\appdata\\local\\programs\\python\\python311\\lib\\site-packages (from chromadb.client) (3.10.3)\n",
      "Requirement already satisfied: deprecated>=1.2.6 in c:\\users\\medan\\appdata\\local\\programs\\python\\python311\\lib\\site-packages (from opentelemetry-api>=1.2.0->chromadb.client) (1.2.14)\n",
      "Requirement already satisfied: importlib-metadata<=7.1,>=6.0 in c:\\users\\medan\\appdata\\local\\programs\\python\\python311\\lib\\site-packages (from opentelemetry-api>=1.2.0->chromadb.client) (7.1.0)\n",
      "Requirement already satisfied: googleapis-common-protos~=1.52 in c:\\users\\medan\\appdata\\local\\programs\\python\\python311\\lib\\site-packages (from opentelemetry-exporter-otlp-proto-grpc>=1.2.0->chromadb.client) (1.62.0)\n",
      "Requirement already satisfied: grpcio<2.0.0,>=1.0.0 in c:\\users\\medan\\appdata\\local\\programs\\python\\python311\\lib\\site-packages (from opentelemetry-exporter-otlp-proto-grpc>=1.2.0->chromadb.client) (1.60.0)\n",
      "Requirement already satisfied: opentelemetry-exporter-otlp-proto-common==1.25.0 in c:\\users\\medan\\appdata\\local\\programs\\python\\python311\\lib\\site-packages (from opentelemetry-exporter-otlp-proto-grpc>=1.2.0->chromadb.client) (1.25.0)\n",
      "Requirement already satisfied: opentelemetry-proto==1.25.0 in c:\\users\\medan\\appdata\\local\\programs\\python\\python311\\lib\\site-packages (from opentelemetry-exporter-otlp-proto-grpc>=1.2.0->chromadb.client) (1.25.0)\n",
      "Requirement already satisfied: protobuf<5.0,>=3.19 in c:\\users\\medan\\appdata\\local\\programs\\python\\python311\\lib\\site-packages (from opentelemetry-proto==1.25.0->opentelemetry-exporter-otlp-proto-grpc>=1.2.0->chromadb.client) (3.20.3)\n",
      "Requirement already satisfied: opentelemetry-semantic-conventions==0.46b0 in c:\\users\\medan\\appdata\\local\\programs\\python\\python311\\lib\\site-packages (from opentelemetry-sdk>=1.2.0->chromadb.client) (0.46b0)\n",
      "Requirement already satisfied: six>=1.5 in c:\\users\\medan\\appdata\\local\\programs\\python\\python311\\lib\\site-packages (from posthog>=2.4.0->chromadb.client) (1.16.0)\n",
      "Requirement already satisfied: monotonic>=1.5 in c:\\users\\medan\\appdata\\local\\programs\\python\\python311\\lib\\site-packages (from posthog>=2.4.0->chromadb.client) (1.6)\n",
      "Requirement already satisfied: backoff>=1.10.0 in c:\\users\\medan\\appdata\\local\\programs\\python\\python311\\lib\\site-packages (from posthog>=2.4.0->chromadb.client) (2.2.1)\n",
      "Requirement already satisfied: python-dateutil>2.1 in c:\\users\\medan\\appdata\\local\\programs\\python\\python311\\lib\\site-packages (from posthog>=2.4.0->chromadb.client) (2.8.2)\n",
      "Requirement already satisfied: charset-normalizer<4,>=2 in c:\\users\\medan\\appdata\\local\\programs\\python\\python311\\lib\\site-packages (from requests>=2.28->chromadb.client) (3.3.2)\n",
      "Requirement already satisfied: idna<4,>=2.5 in c:\\users\\medan\\appdata\\local\\programs\\python\\python311\\lib\\site-packages (from requests>=2.28->chromadb.client) (3.6)\n",
      "Requirement already satisfied: urllib3<3,>=1.21.1 in c:\\users\\medan\\appdata\\local\\programs\\python\\python311\\lib\\site-packages (from requests>=2.28->chromadb.client) (1.26.18)\n",
      "Requirement already satisfied: certifi>=2017.4.17 in c:\\users\\medan\\appdata\\local\\programs\\python\\python311\\lib\\site-packages (from requests>=2.28->chromadb.client) (2023.11.17)\n",
      "Requirement already satisfied: wrapt<2,>=1.10 in c:\\users\\medan\\appdata\\local\\programs\\python\\python311\\lib\\site-packages (from deprecated>=1.2.6->opentelemetry-api>=1.2.0->chromadb.client) (1.14.1)\n",
      "Requirement already satisfied: zipp>=0.5 in c:\\users\\medan\\appdata\\local\\programs\\python\\python311\\lib\\site-packages (from importlib-metadata<=7.1,>=6.0->opentelemetry-api>=1.2.0->chromadb.client) (3.17.0)\n",
      "Downloading chromadb_client-0.4.25.dev0-py3-none-any.whl (523 kB)\n",
      "   ---------------------------------------- 0.0/523.5 kB ? eta -:--:--\n",
      "    --------------------------------------- 10.2/523.5 kB ? eta -:--:--\n",
      "   -- ------------------------------------ 30.7/523.5 kB 660.6 kB/s eta 0:00:01\n",
      "   ----- --------------------------------- 71.7/523.5 kB 660.6 kB/s eta 0:00:01\n",
      "   -------- ----------------------------- 122.9/523.5 kB 804.6 kB/s eta 0:00:01\n",
      "   ---------------- ----------------------- 215.0/523.5 kB 1.1 MB/s eta 0:00:01\n",
      "   ------------------------ --------------- 317.4/523.5 kB 1.3 MB/s eta 0:00:01\n",
      "   ------------------------------------- -- 491.5/523.5 kB 1.7 MB/s eta 0:00:01\n",
      "   ---------------------------------------- 523.5/523.5 kB 1.7 MB/s eta 0:00:00\n",
      "Installing collected packages: chromadb.client\n",
      "Successfully installed chromadb.client-0.4.25.dev0\n"
     ]
    },
    {
     "name": "stderr",
     "output_type": "stream",
     "text": [
      "\n",
      "[notice] A new release of pip is available: 23.3.2 -> 24.0\n",
      "[notice] To update, run: python.exe -m pip install --upgrade pip\n"
     ]
    }
   ],
   "source": [
    "pip install chromadb.client"
   ]
  },
  {
   "cell_type": "code",
   "execution_count": null,
   "id": "7e594df7-87f1-4a7f-8f61-35028ca43c5d",
   "metadata": {},
   "outputs": [],
   "source": []
  }
 ],
 "metadata": {
  "kernelspec": {
   "display_name": "Python 3 (ipykernel)",
   "language": "python",
   "name": "python3"
  },
  "language_info": {
   "codemirror_mode": {
    "name": "ipython",
    "version": 3
   },
   "file_extension": ".py",
   "mimetype": "text/x-python",
   "name": "python",
   "nbconvert_exporter": "python",
   "pygments_lexer": "ipython3",
   "version": "3.11.5"
  }
 },
 "nbformat": 4,
 "nbformat_minor": 5
}
