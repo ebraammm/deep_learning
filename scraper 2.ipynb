{
 "cells": [
  {
   "cell_type": "code",
   "execution_count": 10,
   "id": "2da8388e",
   "metadata": {},
   "outputs": [
    {
     "name": "stdout",
     "output_type": "stream",
     "text": [
      "PDF generated successfully!\n"
     ]
    },
    {
     "name": "stderr",
     "output_type": "stream",
     "text": [
      "C:\\Users\\MN\\AppData\\Local\\Temp\\ipykernel_20640\\886063505.py:23: DeprecationWarning: Substituting font arial by core font helvetica - This is deprecated since v2.7.8, and will soon be removed\n",
      "  pdf.set_font(\"Arial\", size=12)\n",
      "C:\\Users\\MN\\AppData\\Local\\Temp\\ipykernel_20640\\886063505.py:31: DeprecationWarning: Substituting font arial by core font helvetica - This is deprecated since v2.7.8, and will soon be removed\n",
      "  pdf.set_font(\"Arial\", 'B', size=12)\n",
      "C:\\Users\\MN\\AppData\\Local\\Temp\\ipykernel_20640\\886063505.py:38: DeprecationWarning: Substituting font arial by core font helvetica - This is deprecated since v2.7.8, and will soon be removed\n",
      "  pdf.set_font(\"Arial\", size=12)\n"
     ]
    }
   ],
   "source": [
    "import requests\n",
    "from bs4 import BeautifulSoup\n",
    "from fpdf import FPDF\n",
    "\n",
    "# URL of the page to scrape\n",
    "url = \"https://www.thrillophilia.com/best-places-to-visit-in-egypt\"\n",
    "\n",
    "# Send a GET request to the webpage\n",
    "response = requests.get(url)\n",
    "\n",
    "# Check if the request was successful\n",
    "if response.status_code == 200:\n",
    "    # Parse the page content\n",
    "    soup = BeautifulSoup(response.content, 'html.parser')\n",
    "\n",
    "    # Find all sections with the class 'base-block main-card-container content-main-card'\n",
    "    places = soup.find_all('div', class_='base-block main-card-container content-main-card')\n",
    "\n",
    "    # Initialize a PDF document\n",
    "    pdf = FPDF()\n",
    "    pdf.set_auto_page_break(auto=True, margin=15)\n",
    "    pdf.add_page()\n",
    "    pdf.set_font(\"Arial\", size=12)\n",
    "\n",
    "    # Loop through each place section and extract the details\n",
    "    for place in places:\n",
    "        # Extract the title (h3 element within the class 'h3 title')\n",
    "        title_element = place.find('h3', class_='h3 title')\n",
    "        if title_element:\n",
    "            title = title_element.get_text(strip=True)\n",
    "            pdf.set_font(\"Arial\", 'B', size=12)\n",
    "            pdf.multi_cell(0, 10, title)\n",
    "        \n",
    "        # Extract the description (first div element after the title)\n",
    "        description_element = title_element.find_next('div')\n",
    "        if description_element:\n",
    "            description = description_element.get_text(strip=True)\n",
    "            pdf.set_font(\"Arial\", size=12)\n",
    "            pdf.multi_cell(0, 10, description)\n",
    "            pdf.ln(10)  # Add a line break between sections\n",
    "\n",
    "    # Save the PDF to a file\n",
    "    pdf.output(\"places_to_visit_in_egypt.pdf\")\n",
    "    print(\"PDF generated successfully!\")\n",
    "else:\n",
    "    print(f\"Failed to retrieve the webpage. Status code: {response.status_code}\")\n"
   ]
  },
  {
   "cell_type": "code",
   "execution_count": 13,
   "id": "c1dacbe6",
   "metadata": {},
   "outputs": [
    {
     "name": "stdout",
     "output_type": "stream",
     "text": [
      "Text file generated successfully!\n"
     ]
    }
   ],
   "source": [
    "import requests\n",
    "from bs4 import BeautifulSoup\n",
    "\n",
    "# URL of the page to scrape\n",
    "url = \"https://www.thrillophilia.com/best-places-to-visit-in-egypt\"\n",
    "\n",
    "# Send a GET request to the webpage\n",
    "response = requests.get(url)\n",
    "\n",
    "# Check if the request was successful\n",
    "if response.status_code == 200:\n",
    "    # Parse the page content\n",
    "    soup = BeautifulSoup(response.content, 'html.parser')\n",
    "\n",
    "    # Find all sections with the class 'base-block main-card-container content-main-card'\n",
    "    places = soup.find_all('div', class_='base-block main-card-container content-main-card')\n",
    "\n",
    "    # Initialize a list to store the text\n",
    "    text_content = []\n",
    "\n",
    "    # Function to filter out non-ASCII characters\n",
    "    def remove_non_ascii(text):\n",
    "        return ''.join(i for i in text if ord(i) < 128)\n",
    "\n",
    "    # Loop through each place section and extract the details\n",
    "    for place in places:\n",
    "        # Extract the title (h3 element within the class 'h3 title')\n",
    "        title_element = place.find('h3', class_='h3 title')\n",
    "        if title_element:\n",
    "            title = title_element.get_text(strip=True)\n",
    "            title = remove_non_ascii(title)  # Remove non-ASCII characters\n",
    "            text_content.append(f\"Title: {title}\\n\")\n",
    "        \n",
    "        # Extract the description (div element containing the text)\n",
    "        description_element = place.find('div', class_='base-block-body').find('div', class_='text-holder read-more-wrap')\n",
    "        if description_element:\n",
    "            description = description_element.get_text(strip=True)\n",
    "            description = remove_non_ascii(description)  # Remove non-ASCII characters\n",
    "            text_content.append(f\"Description: {description}\\n\")\n",
    "            text_content.append(\"\\n\" + \"-\"*80 + \"\\n\")  # Separator between entries\n",
    "\n",
    "    # Save the text content to a file\n",
    "    with open(\"places_to_visit_in_egypt.txt\", \"w\", encoding=\"utf-8\") as file:\n",
    "        file.writelines(text_content)\n",
    "    \n",
    "    print(\"Text file generated successfully!\")\n",
    "else:\n",
    "    print(f\"Failed to retrieve the webpage. Status code: {response.status_code}\")\n"
   ]
  },
  {
   "cell_type": "code",
   "execution_count": null,
   "id": "478b7f76",
   "metadata": {},
   "outputs": [],
   "source": []
  }
 ],
 "metadata": {
  "kernelspec": {
   "display_name": "Python 3 (ipykernel)",
   "language": "python",
   "name": "python3"
  },
  "language_info": {
   "codemirror_mode": {
    "name": "ipython",
    "version": 3
   },
   "file_extension": ".py",
   "mimetype": "text/x-python",
   "name": "python",
   "nbconvert_exporter": "python",
   "pygments_lexer": "ipython3",
   "version": "3.11.4"
  }
 },
 "nbformat": 4,
 "nbformat_minor": 5
}
